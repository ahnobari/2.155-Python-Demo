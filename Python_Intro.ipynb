{
  "cells": [
    {
      "cell_type": "markdown",
      "metadata": {
        "id": "xQ65AJz3X1k6"
      },
      "source": [
        "#  2.155/2.156 Python Intro Office Hours\n",
        "This notebook serves as a reference for basic python usage and setup. We hope that going over the basics in this notebook will enable you to explore python programming and introduce the basics to you so you can start coding on your own!"
      ]
    },
    {
      "cell_type": "markdown",
      "metadata": {
        "id": "0RW1QDTOYVYx"
      },
      "source": [
        "## Introduction to Python Environment Setup\n",
        "First you have to setup your python development environment\n",
        "In this section, we'll cover how to set up your Python development environment using Miniforge, which is a smaller and more flexible version of Anaconda. Miniforge provides a way to create isolated environments where you can manage different versions of Python and its libraries without interfering with system-wide installations.\n",
        "\n",
        "We'll cover installation for the following platforms:\n",
        "- **Windows**\n",
        "- **Linux**\n",
        "- **Mac**\n",
        "- **Google Colab**\n"
      ]
    },
    {
      "cell_type": "markdown",
      "metadata": {
        "id": "QtHY-TLUYBed"
      },
      "source": [
        "\n",
        "### Miniforge Installation\n",
        "\n",
        "#### Windows\n",
        "\n",
        "1. **Download Miniforge for Windows**  \n",
        "   Go to the [Miniforge GitHub page](https://github.com/conda-forge/miniforge) and download the installer for Windows. Choose the appropriate version based on your system (32-bit or 64-bit).\n",
        "\n",
        "2. **Run the installer**  \n",
        "   - Follow the installer prompts and ensure that you select the option to add Miniforge to your system's PATH.\n",
        "\n",
        "3. **Verify Installation**  \n",
        "   Open Command Prompt and run:\n",
        "   ```bash\n",
        "   mamba --version\n",
        "   ```\n",
        "   You should see the installed version of `conda/mamba`.\n",
        "\n",
        "4. **Create a new Python environment**  \n",
        "   You can now create an isolated Python environment with:\n",
        "   ```bash\n",
        "   mamba create -n myenv python=3.10\n",
        "   ```\n",
        "   Activate the environment:\n",
        "   ```bash\n",
        "   mamba activate myenv\n",
        "   ```\n",
        "\n",
        "#### Linux/Mac\n",
        "1. **Download and Run the installer**  \n",
        "   In your terminal run the following:\n",
        "   ```bash\n",
        "   curl -L -O \"https://github.com/conda-forge/miniforge/releases/latest/download/Miniforge3-$(uname)-$(uname -m).sh\"\n",
        "   ```\n",
        "   Then install by running:\n",
        "\n",
        "   ```bash\n",
        "   bash Miniforge3-$(uname)-$(uname -m).sh\n",
        "   ```\n",
        "   Follow the prompts and ensure to add Miniforge to your system's PATH.\n",
        "\n",
        "   ****Optional****: Remove downloaded file by running:\n",
        "\n",
        "   ```bash\n",
        "   rm Miniforge3-$(uname)-$(uname -m).sh\n",
        "   ```\n",
        "   \n",
        "3. **Verify Installation**  \n",
        "   Open terminal and run:\n",
        "   ```bash\n",
        "   mamba --version\n",
        "   ```\n",
        "   You should see the installed version of `conda/mamba`.\n",
        "\n",
        "4. **Create a new Python environment**  \n",
        "   You can now create an isolated Python environment with:\n",
        "   ```bash\n",
        "   mamba create -n myenv python=3.10\n",
        "   ```\n",
        "   Activate the environment:\n",
        "   ```bash\n",
        "   mamba activate myenv\n",
        "   ```"
      ]
    },
    {
      "cell_type": "markdown",
      "metadata": {
        "id": "y_Zl6-_p6mmJ"
      },
      "source": [
        "### Why Use Conda/Mamba?\n",
        "\n",
        "Conda and Mamba are popular package managers for Python and other languages. They offer several advantages:\n",
        "\n",
        "- **Environment Management**: Conda/Mamba allows you to create isolated environments, making it easy to manage multiple projects with different dependencies.\n",
        "- **Cross-Platform Compatibility**: Both work across Windows, macOS, and Linux, ensuring a consistent experience across different systems.\n",
        "- **Efficient Dependency Resolution**: Mamba is faster than Conda in resolving dependencies, making package installation much quicker.\n",
        "- **Precompiled Packages**: They offer precompiled binaries, reducing the complexity of setting up and managing libraries with C/C++ extensions.\n",
        "- **Portability**: You can easily move your environment across different machines and compute infrastructure by exporting the environment to a `.yml` file. This file lists all the required packages, enabling reproducibility and seamless migration.\n",
        "\n",
        "\n",
        "Now let's download an example yml file with the packages we will be needing and install them using mamba:"
      ]
    },
    {
      "cell_type": "code",
      "execution_count": null,
      "metadata": {
        "colab": {
          "base_uri": "https://localhost:8080/",
          "height": 332
        },
        "id": "Glb6E-CLFacq",
        "outputId": "21005662-9c41-404c-eeab-cd26b259ce72"
      },
      "outputs": [
        {
          "ename": "ModuleNotFoundError",
          "evalue": "No module named 'sksparse'",
          "output_type": "error",
          "traceback": [
            "\u001b[0;31m---------------------------------------------------------------------------\u001b[0m",
            "\u001b[0;31mModuleNotFoundError\u001b[0m                       Traceback (most recent call last)",
            "\u001b[0;32m<ipython-input-3-4aaf3e2a9e10>\u001b[0m in \u001b[0;36m<cell line: 2>\u001b[0;34m()\u001b[0m\n\u001b[1;32m      1\u001b[0m \u001b[0;31m# lets import somthing that does not exist in colab (This will throw an error)\u001b[0m\u001b[0;34m\u001b[0m\u001b[0;34m\u001b[0m\u001b[0m\n\u001b[0;32m----> 2\u001b[0;31m \u001b[0;32mfrom\u001b[0m \u001b[0msksparse\u001b[0m\u001b[0;34m.\u001b[0m\u001b[0mcholmod\u001b[0m \u001b[0;32mimport\u001b[0m \u001b[0mcholesky\u001b[0m\u001b[0;34m\u001b[0m\u001b[0;34m\u001b[0m\u001b[0m\n\u001b[0m",
            "\u001b[0;31mModuleNotFoundError\u001b[0m: No module named 'sksparse'",
            "",
            "\u001b[0;31m---------------------------------------------------------------------------\u001b[0;32m\nNOTE: If your import is failing due to a missing package, you can\nmanually install dependencies using either !pip or !apt.\n\nTo view examples of installing some common dependencies, click the\n\"Open Examples\" button below.\n\u001b[0;31m---------------------------------------------------------------------------\u001b[0m\n"
          ]
        }
      ],
      "source": [
        "# lets import somthing that does not exist in colab (This will throw an error)\n",
        "from sksparse.cholmod import cholesky"
      ]
    },
    {
      "cell_type": "code",
      "execution_count": null,
      "metadata": {
        "colab": {
          "base_uri": "https://localhost:8080/"
        },
        "id": "33XxeMUsEN93",
        "outputId": "af5a54a6-610f-41f7-fd95-2b4a8d38ddb0"
      },
      "outputs": [
        {
          "name": "stdout",
          "output_type": "stream",
          "text": [
            "fatal: destination path '2.155-Python-Demo' already exists and is not an empty directory.\n"
          ]
        },
        {
          "name": "stderr",
          "output_type": "stream",
          "text": [
            "UsageError: Line magic function `%%` not found.\n"
          ]
        }
      ],
      "source": [
        "# First clone our demo repository\n",
        "!git clone https://github.com/ahnobari/2.155-Python-Demo.git"
      ]
    },
    {
      "cell_type": "code",
      "execution_count": null,
      "metadata": {
        "id": "YSsU9TMVa6hP"
      },
      "outputs": [],
      "source": [
        "# install the needed packages (we will ask the notebook to not pring the installation logs)\n",
        "%%capture\n",
        "!mamba env update -n base -f 2.155-Python-Demo/env.yml"
      ]
    },
    {
      "cell_type": "code",
      "execution_count": null,
      "metadata": {
        "id": "S5mCvH7xdi8f"
      },
      "outputs": [],
      "source": [
        "# now this should work\n",
        "from sksparse.cholmod import cholesky"
      ]
    },
    {
      "cell_type": "markdown",
      "metadata": {
        "id": "EP_L5CuNebQi"
      },
      "source": [
        "# Introductory Python\n",
        "Below are the very basics of python including loops and logical statements and so on. We expect you to already know about these concepts and figure out how to them on your own."
      ]
    },
    {
      "cell_type": "markdown",
      "metadata": {
        "id": "_9JXfBouZnkN"
      },
      "source": [
        "## Python Basics"
      ]
    },
    {
      "cell_type": "markdown",
      "metadata": {
        "id": "4uSdOFuEZkKm"
      },
      "source": [
        "### 1. Basic Python Syntax and Printing\n",
        "\n",
        "Python is an interpreted language, which means it processes code line by line, allowing you to interact with the language directly. In this section, we will introduce basic syntax, expressions, and how to print output to the console.\n",
        "\n",
        "---\n",
        "\n",
        "#### Syntax\n",
        "- **Code**: The sequence of instructions that the computer follows.\n",
        "- **Syntax**: A set of rules that define how Python code must be written.\n",
        "- **Output**: Messages printed to the user by a program.\n",
        "- **Console**: The area where output is displayed. Here we don't deal with this as everything is printed in the notebook."
      ]
    },
    {
      "cell_type": "code",
      "execution_count": null,
      "metadata": {
        "colab": {
          "base_uri": "https://localhost:8080/"
        },
        "id": "cEhlZuQcZlSe",
        "outputId": "8000720c-d12b-4b7d-d4d9-ca98ad395239"
      },
      "outputs": [
        {
          "name": "stdout",
          "output_type": "stream",
          "text": [
            "Hello, Python!\n"
          ]
        }
      ],
      "source": [
        "# Let's start by printing a simple statement in Python\n",
        "print(\"Hello, Python!\")  # This will output: Hello, Python!"
      ]
    },
    {
      "cell_type": "markdown",
      "metadata": {
        "id": "ez1dIRQ_aXGG"
      },
      "source": [
        "### 2. Expressions and Arithmetic Operations\n",
        "\n",
        "An **expression** is a combination of values and operators that the interpreter evaluates to produce a result.\n",
        "\n",
        "---\n",
        "\n",
        "#### Example: Simple Arithmetic Expressions\n",
        "We can use arithmetic operations like addition, subtraction, multiplication, and division. Let’s try a simple one:"
      ]
    },
    {
      "cell_type": "code",
      "execution_count": null,
      "metadata": {
        "colab": {
          "base_uri": "https://localhost:8080/"
        },
        "id": "aiWHwGgjZrNX",
        "outputId": "37a6ae47-0075-470e-e110-75b0f937b17d"
      },
      "outputs": [
        {
          "name": "stdout",
          "output_type": "stream",
          "text": [
            "Result of 1 + 2 * 3: 7\n"
          ]
        }
      ],
      "source": [
        "# Simple arithmetic operations\n",
        "result = 1 + 2 * 3  # According to precedence, multiplication is done first\n",
        "print(\"Result of 1 + 2 * 3:\", result)  # Output: 7"
      ]
    },
    {
      "cell_type": "markdown",
      "metadata": {
        "id": "4YDkdsZpac5P"
      },
      "source": [
        "### 3. Arithmetic Operations and Precedence\n",
        "\n",
        "Python follows a specific order of operations when evaluating expressions. This order is called **operator precedence**.\n",
        "\n",
        "- **Precedence**: Operators with higher precedence are evaluated first.\n",
        "- **Parentheses** can be used to force a certain order of evaluation.\n",
        "\n",
        "---\n",
        "\n",
        "#### Arithmetic Operators:\n",
        "- `+`: Addition\n",
        "- `-`: Subtraction\n",
        "- `*`: Multiplication\n",
        "- `/`: Division\n",
        "- `%`: Modulus (Remainder)\n",
        "- `**`: Exponentiation\n",
        "\n",
        "#### Example: Operator Precedence"
      ]
    },
    {
      "cell_type": "code",
      "execution_count": null,
      "metadata": {
        "colab": {
          "base_uri": "https://localhost:8080/"
        },
        "id": "0j0yyXSIaZU_",
        "outputId": "2e3de40f-7734-4bd5-ad1b-fa0f6a534ff7"
      },
      "outputs": [
        {
          "name": "stdout",
          "output_type": "stream",
          "text": [
            "Result of (1 + 3) * 4: 16\n"
          ]
        }
      ],
      "source": [
        "# Precedence Example\n",
        "result = (1 + 3) * 4  # Parentheses change the default precedence\n",
        "print(\"Result of (1 + 3) * 4:\", result)  # Output: 16"
      ]
    },
    {
      "cell_type": "code",
      "execution_count": null,
      "metadata": {
        "colab": {
          "base_uri": "https://localhost:8080/"
        },
        "id": "OBJ-EHmfag0K",
        "outputId": "e05d4024-2425-4b22-e0e7-b029e4ccad0b"
      },
      "outputs": [
        {
          "name": "stdout",
          "output_type": "stream",
          "text": [
            "Result of 1 + 3 * 4: 13\n"
          ]
        }
      ],
      "source": [
        "# Without parentheses\n",
        "result = 1 + 3 * 4  # Multiplication is done first\n",
        "print(\"Result of 1 + 3 * 4:\", result)  # Output: 13"
      ]
    },
    {
      "cell_type": "markdown",
      "metadata": {
        "id": "Bzcw6pk_aomG"
      },
      "source": [
        "### 4. Integer and Real Number Operations\n",
        "\n",
        "Python can handle both integer and real number (floating-point) operations.\n",
        "\n",
        "---\n",
        "\n",
        "#### Example: Integer Division\n",
        "When dividing two integers using `/`, Python will return a floating-point result."
      ]
    },
    {
      "cell_type": "code",
      "execution_count": null,
      "metadata": {
        "colab": {
          "base_uri": "https://localhost:8080/"
        },
        "id": "V7Apjmujai3V",
        "outputId": "38251d84-b701-4fc6-fce5-1f4a10896ff8"
      },
      "outputs": [
        {
          "name": "stdout",
          "output_type": "stream",
          "text": [
            "Integer division of 15 // 2: 7\n"
          ]
        }
      ],
      "source": [
        "# Integer Division\n",
        "result = 15 // 2  # Integer division using //\n",
        "print(\"Integer division of 15 // 2:\", result)  # Output: 7"
      ]
    },
    {
      "cell_type": "markdown",
      "metadata": {
        "id": "Vddcgyhfav0q"
      },
      "source": [
        "#### Example: Real Number Division"
      ]
    },
    {
      "cell_type": "code",
      "execution_count": null,
      "metadata": {
        "colab": {
          "base_uri": "https://localhost:8080/"
        },
        "id": "pzP7Zem3arWE",
        "outputId": "7acffb27-4afc-4b5e-c022-80ac71f0692c"
      },
      "outputs": [
        {
          "name": "stdout",
          "output_type": "stream",
          "text": [
            "Real division of 15 / 2: 7.5\n"
          ]
        }
      ],
      "source": [
        "# Real number division\n",
        "result = 15 / 2  # Regular division\n",
        "print(\"Real division of 15 / 2:\", result)  # Output: 7.5\n"
      ]
    },
    {
      "cell_type": "markdown",
      "metadata": {
        "id": "hIj8aWgea4KH"
      },
      "source": [
        "---\n",
        "\n",
        "#### Mixing Integers and Reals:\n",
        "When integers and real numbers are mixed, Python converts the result into a real number."
      ]
    },
    {
      "cell_type": "code",
      "execution_count": null,
      "metadata": {
        "colab": {
          "base_uri": "https://localhost:8080/"
        },
        "id": "s3NeX4_na3fs",
        "outputId": "382f6f3d-984e-491d-9d6b-c10146f54524"
      },
      "outputs": [
        {
          "name": "stdout",
          "output_type": "stream",
          "text": [
            "Mixed division and multiplication result: 4.300000000000001\n"
          ]
        }
      ],
      "source": [
        "# Mixing integers and reals\n",
        "result = 7 / 3 * 1.2 + 3 / 2\n",
        "print(\"Mixed division and multiplication result:\", result)  # Output: 4.3"
      ]
    },
    {
      "cell_type": "markdown",
      "metadata": {
        "id": "CkFVn1u1bBiu"
      },
      "source": [
        "### 5. Printing with Formatted Strings\n",
        "\n",
        "In addition to printing multiple items with commas, you can also use **formatted strings** to make your output cleaner.\n",
        "\n",
        "---\n",
        "\n",
        "#### Example: Using `f-strings` (formatted strings)"
      ]
    },
    {
      "cell_type": "code",
      "execution_count": null,
      "metadata": {
        "colab": {
          "base_uri": "https://localhost:8080/"
        },
        "id": "ZGmbtQSXayr2",
        "outputId": "a89f6ee9-50c4-44dd-b03e-1713c64bcffb"
      },
      "outputs": [
        {
          "name": "stdout",
          "output_type": "stream",
          "text": [
            "My name is John and I am 30 years old.\n"
          ]
        }
      ],
      "source": [
        "# Formatted strings (f-strings)\n",
        "name = \"John\"\n",
        "age = 30\n",
        "print(f\"My name is {name} and I am {age} years old.\")  # Output: My name is John and I am 30 years old."
      ]
    },
    {
      "cell_type": "markdown",
      "metadata": {
        "id": "xb859F2YbKJE"
      },
      "source": [
        "You can control the width, precision, and alignment of the output using formatted strings.\n",
        "\n",
        "#### Example: Controlling Decimal Precision"
      ]
    },
    {
      "cell_type": "code",
      "execution_count": null,
      "metadata": {
        "colab": {
          "base_uri": "https://localhost:8080/"
        },
        "id": "j29ZwPR8bDrq",
        "outputId": "a7db4154-740a-4b36-b94c-aff56c108509"
      },
      "outputs": [
        {
          "name": "stdout",
          "output_type": "stream",
          "text": [
            "Pi rounded to 2 decimal places: 3.14\n"
          ]
        }
      ],
      "source": [
        "# Controlling decimal precision\n",
        "pi = 3.141592653589793\n",
        "print(f\"Pi rounded to 2 decimal places: {pi:.2f}\")  # Output: Pi rounded to 2 decimal places: 3.14"
      ]
    },
    {
      "cell_type": "markdown",
      "metadata": {
        "id": "Wp9syT8wbQbC"
      },
      "source": [
        "#### Example: Aligning Text\n",
        "You can align text using `<`, `>`, and `^` for left, right, and center alignment, respectively."
      ]
    },
    {
      "cell_type": "code",
      "execution_count": null,
      "metadata": {
        "colab": {
          "base_uri": "https://localhost:8080/"
        },
        "id": "0NYsO79QbM7s",
        "outputId": "574fb176-e530-4532-98fa-baf0842125c9"
      },
      "outputs": [
        {
          "name": "stdout",
          "output_type": "stream",
          "text": [
            "left aligned    |   right aligned\n"
          ]
        }
      ],
      "source": [
        "# Aligning text\n",
        "print(f\"{'left aligned':<15} | {'right aligned':>15}\")  # Output: left aligned    |   right aligned"
      ]
    },
    {
      "cell_type": "markdown",
      "metadata": {
        "id": "Nw6ParHfbdtw"
      },
      "source": [
        "## Python Math Commands\n",
        "\n",
        "Python provides a variety of built-in mathematical functions and constants through the `math` module. To access these functions, you need to import the `math` module.\n",
        "\n",
        "---\n",
        "\n",
        "### Common Math Functions:\n",
        "\n",
        "- `abs(value)`: Returns the absolute value of the number.\n",
        "- `ceil(value)`: Rounds a number up to the nearest integer.\n",
        "- `floor(value)`: Rounds a number down to the nearest integer.\n",
        "- `sqrt(value)`: Returns the square root of a number.\n",
        "- `log(value)`: Returns the natural logarithm (base `e`).\n",
        "- `log10(value)`: Returns the logarithm of the value to base 10.\n",
        "- `sin(value)`: Returns the sine of an angle in radians.\n",
        "- `cos(value)`: Returns the cosine of an angle in radians.\n",
        "- `tan(value)`: Returns the tangent of an angle in radians.\n",
        "- `max(value1, value2)`: Returns the maximum of two values.\n",
        "- `min(value1, value2)`: Returns the minimum of two values.\n",
        "- `round(value, digits)`: Rounds the number to the specified number of digits.\n",
        "- `pi`: A constant for the value of pi (`π ≈ 3.14159`).\n",
        "- `e`: A constant for the base of the natural logarithm (`e ≈ 2.71828`).\n",
        "\n",
        "---\n",
        "\n",
        "Below is a demonstration of some key math functions:"
      ]
    },
    {
      "cell_type": "code",
      "execution_count": null,
      "metadata": {
        "colab": {
          "base_uri": "https://localhost:8080/"
        },
        "id": "6c5-7MOLbSs3",
        "outputId": "3a2a6ad3-9b4a-4ce5-900e-fb3823dae678"
      },
      "outputs": [
        {
          "name": "stdout",
          "output_type": "stream",
          "text": [
            "Absolute value of -8: 8\n",
            "Ceiling of 4.2: 5\n",
            "Floor of 4.8: 4\n",
            "Square root of 25: 5.0\n",
            "Natural logarithm of 5: 1.6094379124341003\n",
            "Base-10 logarithm of 1000: 3.0\n",
            "Sine of pi/2 radians: 1.0\n",
            "Value of pi: 3.141592653589793\n"
          ]
        }
      ],
      "source": [
        "# Importing the math module\n",
        "import math\n",
        "\n",
        "# Demonstrating key math functions\n",
        "print(\"Absolute value of -8:\", abs(-8))                  # Output: 8\n",
        "print(\"Ceiling of 4.2:\", math.ceil(4.2))                 # Output: 5\n",
        "print(\"Floor of 4.8:\", math.floor(4.8))                  # Output: 4\n",
        "print(\"Square root of 25:\", math.sqrt(25))               # Output: 5.0\n",
        "print(\"Natural logarithm of 5:\", math.log(5))            # Output: 1.609437...\n",
        "print(\"Base-10 logarithm of 1000:\", math.log10(1000))    # Output: 3.0\n",
        "print(\"Sine of pi/2 radians:\", math.sin(math.pi / 2))    # Output: 1.0\n",
        "print(\"Value of pi:\", math.pi)                           # Output: 3.141592653589793"
      ]
    },
    {
      "cell_type": "markdown",
      "metadata": {
        "id": "D4fiFiEicbK4"
      },
      "source": [
        "---\n",
        "\n",
        "You can explore more functions from the `math` module by visiting the official [Python math module documentation](https://docs.python.org/3/library/math.html).\n",
        "\n",
        "In the next section, we will dive deeper into Python functions and variables."
      ]
    },
    {
      "cell_type": "markdown",
      "metadata": {
        "id": "4Dh-gi3ddnRL"
      },
      "source": [
        "## Logical Statements and If/Else"
      ]
    },
    {
      "cell_type": "markdown",
      "metadata": {
        "id": "Dv3o2wcMdHeB"
      },
      "source": [
        "### Logical Operators\n",
        "\n",
        "Logical expressions in Python use **relational operators** to compare values. These operators return either `True` or `False` based on the condition.\n",
        "\n",
        "#### Relational Operators:\n",
        "- `==`: Equals\n",
        "- `!=`: Not equal to\n",
        "- `<`: Less than\n",
        "- `>`: Greater than\n",
        "- `<=`: Less than or equal to\n",
        "- `>=`: Greater than or equal to\n"
      ]
    },
    {
      "cell_type": "code",
      "execution_count": null,
      "metadata": {
        "colab": {
          "base_uri": "https://localhost:8080/"
        },
        "id": "Sne6r1kjcRPB",
        "outputId": "965e2091-c143-4d6c-f3c2-6dae5af2e198"
      },
      "outputs": [
        {
          "name": "stdout",
          "output_type": "stream",
          "text": [
            "Is x equal to y? False\n",
            "Is x not equal to y? True\n",
            "Is x greater than y? False\n",
            "Is x less than or equal to y? True\n"
          ]
        }
      ],
      "source": [
        "# Example: Relational operators\n",
        "x = 10\n",
        "y = 20\n",
        "\n",
        "print(\"Is x equal to y?\", x == y)  # Output: False\n",
        "print(\"Is x not equal to y?\", x != y)  # Output: True\n",
        "print(\"Is x greater than y?\", x > y)  # Output: False\n",
        "print(\"Is x less than or equal to y?\", x <= y)  # Output: True"
      ]
    },
    {
      "cell_type": "markdown",
      "metadata": {
        "id": "_bS4PJFsdc2m"
      },
      "source": [
        "### Logical Expressions\n",
        "\n",
        "Logical expressions can also be combined using **logical operators**:\n",
        "- `and`: Returns `True` if both conditions are true.\n",
        "- `or`: Returns `True` if at least one condition is true.\n",
        "- `not`: Negates the result of a logical expression.\n",
        "\n",
        "#### Example:"
      ]
    },
    {
      "cell_type": "code",
      "execution_count": null,
      "metadata": {
        "colab": {
          "base_uri": "https://localhost:8080/"
        },
        "id": "v11PsUcXdLUR",
        "outputId": "dc7c2275-3c6f-4e56-b478-63287369d9c8"
      },
      "outputs": [
        {
          "name": "stdout",
          "output_type": "stream",
          "text": [
            "Is a < 10 and b > 10? True\n",
            "Is a > 10 or b > 10? True\n",
            "Not a > b: True\n"
          ]
        }
      ],
      "source": [
        "# Example: Logical expressions\n",
        "a = 5\n",
        "b = 15\n",
        "\n",
        "print(\"Is a < 10 and b > 10?\", a < 10 and b > 10)  # Output: True\n",
        "print(\"Is a > 10 or b > 10?\", a > 10 or b > 10)  # Output: True\n",
        "print(\"Not a > b:\", not a > b)  # Output: True"
      ]
    },
    {
      "cell_type": "markdown",
      "metadata": {
        "id": "WlwxpJJVdhNY"
      },
      "source": [
        "### If Statements\n",
        "\n",
        "An **if statement** allows your program to execute certain code only if a specific condition is `True`.\n",
        "\n",
        "#### Syntax:\n",
        "```python\n",
        "if condition:\n",
        "    # code to execute if condition is true\n",
        "```"
      ]
    },
    {
      "cell_type": "code",
      "execution_count": null,
      "metadata": {
        "colab": {
          "base_uri": "https://localhost:8080/"
        },
        "id": "deNdekZ3dfNd",
        "outputId": "37c4d826-0119-4efe-8480-a08d1b74fb70"
      },
      "outputs": [
        {
          "name": "stdout",
          "output_type": "stream",
          "text": [
            "You qualify for the scholarship!\n"
          ]
        }
      ],
      "source": [
        "gpa = 3.5\n",
        "if gpa > 3.0:\n",
        "    print(\"You qualify for the scholarship!\")  # This will print"
      ]
    },
    {
      "cell_type": "markdown",
      "metadata": {
        "id": "L5KwjXcAd9zA"
      },
      "source": [
        "### If/Else Statements\n",
        "\n",
        "An **if/else statement** allows your program to choose between two sets of instructions based on whether a condition is `True` or `False`.\n",
        "\n",
        "#### Syntax:\n",
        "```python\n",
        "if condition:\n",
        "    # code to execute if condition is true\n",
        "else:\n",
        "    # code to execute if condition is false\n",
        "```"
      ]
    },
    {
      "cell_type": "code",
      "execution_count": null,
      "metadata": {
        "colab": {
          "base_uri": "https://localhost:8080/"
        },
        "id": "eitonPcJd1Mz",
        "outputId": "fae4cbbc-6cb7-4e36-f878-0c11c0fb81aa"
      },
      "outputs": [
        {
          "name": "stdout",
          "output_type": "stream",
          "text": [
            "You do not qualify for the scholarship.\n"
          ]
        }
      ],
      "source": [
        "gpa = 2.5\n",
        "if gpa > 3.0:\n",
        "    print(\"You qualify for the scholarship!\")\n",
        "else:\n",
        "    print(\"You do not qualify for the scholarship.\")"
      ]
    },
    {
      "cell_type": "markdown",
      "metadata": {
        "id": "AUbnhQyPeFtD"
      },
      "source": [
        "### If/Elif/Else Statements\n",
        "\n",
        "The **if/elif/else** structure allows you to check multiple conditions in sequence. Only one block of code will run, based on which condition is `True`.\n",
        "\n",
        "#### Syntax:\n",
        "```python\n",
        "if condition1:\n",
        "    # code to execute if condition1 is true\n",
        "elif condition2:\n",
        "    # code to execute if condition2 is true\n",
        "else:\n",
        "    # code to execute if none of the above conditions are true\n",
        "```"
      ]
    },
    {
      "cell_type": "code",
      "execution_count": null,
      "metadata": {
        "colab": {
          "base_uri": "https://localhost:8080/"
        },
        "id": "k37y3FB1eB9b",
        "outputId": "f09c3086-cab3-48cf-aca8-3eaab1754449"
      },
      "outputs": [
        {
          "name": "stdout",
          "output_type": "stream",
          "text": [
            "You qualify for the general scholarship.\n"
          ]
        }
      ],
      "source": [
        "# Example: If/Elif/Else statement\n",
        "gpa = 3.1\n",
        "if gpa > 3.5:\n",
        "    print(\"You qualify for the highest scholarship.\")\n",
        "elif gpa > 3.0:\n",
        "    print(\"You qualify for the general scholarship.\")\n",
        "else:\n",
        "    print(\"You do not qualify for a scholarship.\")"
      ]
    },
    {
      "cell_type": "markdown",
      "metadata": {
        "id": "s75qsyrJeRTd"
      },
      "source": [
        "## Loops\n",
        "\n",
        "### Loops in Python\n",
        "\n",
        "Loops allow you to repeat a block of code multiple times. Python supports two types of loops:\n",
        "\n",
        "- `for` loops\n",
        "- `while` loops\n",
        "\n",
        "---"
      ]
    },
    {
      "cell_type": "markdown",
      "metadata": {
        "id": "2eFeKxWqfoWZ"
      },
      "source": [
        "### 1. For Loops\n",
        "\n",
        "The `for` loop in Python is used to iterate over a sequence (such as a list, tuple, or string) or other iterable objects. It allows you to execute a block of code for each element in the sequence.\n",
        "\n",
        "#### Syntax:\n",
        "```python\n",
        "for variable in sequence:\n",
        "    # code to execute for each item in the sequence\n",
        "```"
      ]
    },
    {
      "cell_type": "code",
      "execution_count": null,
      "metadata": {
        "colab": {
          "base_uri": "https://localhost:8080/"
        },
        "id": "vYxXMJOneK7T",
        "outputId": "6ee2f5c9-ae36-4014-bd3c-fba3d60862b3"
      },
      "outputs": [
        {
          "name": "stdout",
          "output_type": "stream",
          "text": [
            "1 squared is 1\n",
            "2 squared is 4\n",
            "3 squared is 9\n",
            "4 squared is 16\n",
            "5 squared is 25\n"
          ]
        }
      ],
      "source": [
        "for x in range(1, 6):\n",
        "    print(x, \"squared is\", x * x)"
      ]
    },
    {
      "cell_type": "markdown",
      "metadata": {
        "id": "QTOAOgK1fu6i"
      },
      "source": [
        "### 2. The `range()` Function\n",
        "\n",
        "The `range()` function generates a sequence of numbers. It can be used to specify the range of values for a loop.\n",
        "\n",
        "#### Syntax:\n",
        "```python\n",
        "range(start, stop, step)\n",
        "```\n",
        "- `start`: The first value in the range (inclusive).\n",
        "- `stop`: The last value (exclusive).\n",
        "- `step`: The difference between consecutive values (optional).\n"
      ]
    },
    {
      "cell_type": "code",
      "execution_count": null,
      "metadata": {
        "colab": {
          "base_uri": "https://localhost:8080/"
        },
        "id": "GDy85Hi8fqEe",
        "outputId": "bacd4da9-461a-4f88-eda9-67ecb4acd763"
      },
      "outputs": [
        {
          "name": "stdout",
          "output_type": "stream",
          "text": [
            "5\n",
            "4\n",
            "3\n",
            "2\n",
            "1\n",
            "Blastoff!\n"
          ]
        }
      ],
      "source": [
        "for x in range(5, 0, -1):\n",
        "    print(x)\n",
        "print(\"Blastoff!\")"
      ]
    },
    {
      "cell_type": "markdown",
      "metadata": {
        "id": "mr51Va1Hf1u-"
      },
      "source": [
        "### 3. Cumulative Loops\n",
        "\n",
        "A cumulative loop keeps track of a total, typically initialized outside of the loop and incremented inside the loop.\n"
      ]
    },
    {
      "cell_type": "code",
      "execution_count": null,
      "metadata": {
        "colab": {
          "base_uri": "https://localhost:8080/"
        },
        "id": "b45GuDmlfyBr",
        "outputId": "0cd3161e-39bc-4114-e800-4a71f9da2888"
      },
      "outputs": [
        {
          "name": "stdout",
          "output_type": "stream",
          "text": [
            "Sum of the first 10 squares is 385\n"
          ]
        }
      ],
      "source": [
        "sum = 0\n",
        "for i in range(1, 11):\n",
        "    sum = sum + (i * i)\n",
        "print(\"Sum of the first 10 squares is\", sum)"
      ]
    },
    {
      "cell_type": "markdown",
      "metadata": {
        "id": "CXM58D9uf7U-"
      },
      "source": [
        "### 4. While Loops\n",
        "\n",
        "A `while` loop repeats a block of code as long as a condition is `True`. It is typically used when the number of iterations is not known in advance.\n",
        "\n",
        "#### Syntax:\n",
        "```python\n",
        "while condition:\n",
        "    # code to execute while the condition is true\n",
        "```\n"
      ]
    },
    {
      "cell_type": "code",
      "execution_count": null,
      "metadata": {
        "colab": {
          "base_uri": "https://localhost:8080/"
        },
        "id": "rVUlsSLif3Jk",
        "outputId": "35381213-fa73-4114-fd37-33be1911e118"
      },
      "outputs": [
        {
          "name": "stdout",
          "output_type": "stream",
          "text": [
            "1 2 4 8 16 32 64 128 "
          ]
        }
      ],
      "source": [
        "number = 1\n",
        "while number < 200:\n",
        "    print(number, end=\" \")\n",
        "    number = number * 2"
      ]
    },
    {
      "cell_type": "markdown",
      "metadata": {
        "id": "W-N3JssbgBM0"
      },
      "source": [
        "### 5. Loop Control Statements\n",
        "\n",
        "Loop control statements allow you to modify the flow of a loop:\n",
        "\n",
        "- `break`: Exits the loop prematurely.\n",
        "- `continue`: Skips the current iteration and moves to the next one.\n",
        "- `pass`: Does nothing, used as a placeholder."
      ]
    },
    {
      "cell_type": "code",
      "execution_count": null,
      "metadata": {
        "colab": {
          "base_uri": "https://localhost:8080/"
        },
        "id": "wH8nd37Df9zk",
        "outputId": "79c93cd2-ddd4-4cae-e71c-766dd4022de3"
      },
      "outputs": [
        {
          "name": "stdout",
          "output_type": "stream",
          "text": [
            "1\n",
            "2\n",
            "3\n",
            "4\n"
          ]
        }
      ],
      "source": [
        "for i in range(1, 11):\n",
        "    if i == 5:\n",
        "        break\n",
        "    print(i)"
      ]
    },
    {
      "cell_type": "code",
      "execution_count": null,
      "metadata": {
        "colab": {
          "base_uri": "https://localhost:8080/"
        },
        "id": "zcpRZCUtgDnT",
        "outputId": "583959d4-fe45-4582-8f49-4bf496ffbc9c"
      },
      "outputs": [
        {
          "name": "stdout",
          "output_type": "stream",
          "text": [
            "1\n",
            "2\n",
            "3\n",
            "4\n",
            "6\n",
            "7\n",
            "8\n",
            "9\n",
            "10\n"
          ]
        }
      ],
      "source": [
        "for i in range(1, 11):\n",
        "    if i == 5:\n",
        "        continue\n",
        "    print(i)"
      ]
    },
    {
      "cell_type": "markdown",
      "metadata": {
        "id": "BJ5-qP0VgYW2"
      },
      "source": [
        "## Functions\n",
        "\n",
        "### Introduction to Functions\n",
        "\n",
        "A function is a block of reusable code that performs a specific task. Functions allow you to break your program into smaller, modular chunks and avoid repetition.\n",
        "\n",
        "In Python, you define a function using the `def` keyword.\n",
        "\n",
        "---"
      ]
    },
    {
      "cell_type": "markdown",
      "metadata": {
        "id": "OeMix2rygbBI"
      },
      "source": [
        "### 1. Defining a Function\n",
        "\n",
        "To define a function, use the following syntax:\n",
        "\n",
        "#### Syntax:\n",
        "```python\n",
        "def function_name(parameters):\n",
        "    # code block to execute\n",
        "```"
      ]
    },
    {
      "cell_type": "code",
      "execution_count": null,
      "metadata": {
        "colab": {
          "base_uri": "https://localhost:8080/"
        },
        "id": "gwOx_9s0gF3t",
        "outputId": "7e477d85-93b4-418a-9a25-4bffdcbd4dda"
      },
      "outputs": [
        {
          "name": "stdout",
          "output_type": "stream",
          "text": [
            "Hello, world!\n"
          ]
        }
      ],
      "source": [
        "def greet():\n",
        "    print(\"Hello, world!\")\n",
        "\n",
        "greet()  # Output: Hello, world!"
      ]
    },
    {
      "cell_type": "markdown",
      "metadata": {
        "id": "JZC_w1dPgfqN"
      },
      "source": [
        "### 2. Function Parameters\n",
        "\n",
        "Functions can accept parameters (also called arguments), which are values that you can pass into the function.\n",
        "\n",
        "#### Syntax:\n",
        "```python\n",
        "def function_name(parameter1, parameter2):\n",
        "    # code block that uses parameters\n",
        "```"
      ]
    },
    {
      "cell_type": "code",
      "execution_count": null,
      "metadata": {
        "colab": {
          "base_uri": "https://localhost:8080/"
        },
        "id": "DQ9i9lTOgeFT",
        "outputId": "5ac7f6fc-667a-474a-bb04-dd79312f5029"
      },
      "outputs": [
        {
          "name": "stdout",
          "output_type": "stream",
          "text": [
            "Hello, Alice!\n"
          ]
        }
      ],
      "source": [
        "def greet(name):\n",
        "    print(f\"Hello, {name}!\")\n",
        "\n",
        "greet(\"Alice\")  # Output: Hello, Alice!"
      ]
    },
    {
      "cell_type": "markdown",
      "metadata": {
        "id": "EiTZXfPmgiX_"
      },
      "source": [
        "### 3. Return Values\n",
        "\n",
        "A function can return a value using the `return` statement."
      ]
    },
    {
      "cell_type": "code",
      "execution_count": null,
      "metadata": {
        "colab": {
          "base_uri": "https://localhost:8080/"
        },
        "id": "PASwl7tqghc-",
        "outputId": "bcbebd71-ba8a-4b56-96d0-5c08e822ceb3"
      },
      "outputs": [
        {
          "name": "stdout",
          "output_type": "stream",
          "text": [
            "Square of 5 is 25\n"
          ]
        }
      ],
      "source": [
        "def square(x):\n",
        "    return x * x\n",
        "\n",
        "result = square(5)\n",
        "print(\"Square of 5 is\", result)  # Output: Square of 5 is 25"
      ]
    },
    {
      "cell_type": "markdown",
      "metadata": {
        "id": "gPMr5B6dgpQS"
      },
      "source": [
        "### 4. Default Parameters\n",
        "\n",
        "You can assign default values to function parameters. If a value is not provided when calling the function, the default value will be used.\n"
      ]
    },
    {
      "cell_type": "code",
      "execution_count": null,
      "metadata": {
        "colab": {
          "base_uri": "https://localhost:8080/"
        },
        "id": "7DoVcL05gm-Z",
        "outputId": "5bc9966e-201e-4bb4-ccb8-6d1ded734f36"
      },
      "outputs": [
        {
          "name": "stdout",
          "output_type": "stream",
          "text": [
            "Hello, Guest!\n",
            "Hello, John!\n"
          ]
        }
      ],
      "source": [
        "def greet(name=\"Guest\"):\n",
        "    print(f\"Hello, {name}!\")\n",
        "\n",
        "greet()        # Output: Hello, Guest!\n",
        "greet(\"John\")  # Output: Hello, John!"
      ]
    },
    {
      "cell_type": "markdown",
      "metadata": {
        "id": "A2vtVsFogtoB"
      },
      "source": [
        "### 5. Keyword Arguments\n",
        "\n",
        "Python allows you to call a function using **keyword arguments**, where the argument name is specified during the function call."
      ]
    },
    {
      "cell_type": "code",
      "execution_count": null,
      "metadata": {
        "colab": {
          "base_uri": "https://localhost:8080/"
        },
        "id": "HDwhi3FsgrAW",
        "outputId": "25311b04-e3fe-49ca-a56d-629a1d068a09"
      },
      "outputs": [
        {
          "name": "stdout",
          "output_type": "stream",
          "text": [
            "Name: Alice, Age: 30\n"
          ]
        }
      ],
      "source": [
        "def display_info(name, age):\n",
        "    print(f\"Name: {name}, Age: {age}\")\n",
        "\n",
        "display_info(age=30, name=\"Alice\")  # Output: Name: Alice, Age: 30"
      ]
    },
    {
      "cell_type": "markdown",
      "metadata": {
        "id": "Up5AmSB8gysx"
      },
      "source": [
        "### 6. Variable-Length Arguments\n",
        "\n",
        "You can define functions that accept an arbitrary number of arguments by using `*args` for positional arguments and `**kwargs` for keyword arguments.\n"
      ]
    },
    {
      "cell_type": "markdown",
      "metadata": {
        "id": "qrTS7Z4FhBxI"
      },
      "source": [
        "#### Example of `*args`:"
      ]
    },
    {
      "cell_type": "code",
      "execution_count": null,
      "metadata": {
        "colab": {
          "base_uri": "https://localhost:8080/"
        },
        "id": "itv9y5WZgv4N",
        "outputId": "4bccaa5b-6845-4c1b-f176-044403a3e6c7"
      },
      "outputs": [
        {
          "name": "stdout",
          "output_type": "stream",
          "text": [
            "Sum: 10\n"
          ]
        }
      ],
      "source": [
        "del sum\n",
        "def add_numbers(*args):\n",
        "    result = sum(args)\n",
        "    print(\"Sum:\", result)\n",
        "\n",
        "add_numbers(1, 2, 3, 4)  # Output: Sum: 10"
      ]
    },
    {
      "cell_type": "markdown",
      "metadata": {
        "id": "2qCmLctjhC_E"
      },
      "source": [
        "#### Example of `**kwargs`:"
      ]
    },
    {
      "cell_type": "code",
      "execution_count": null,
      "metadata": {
        "colab": {
          "base_uri": "https://localhost:8080/"
        },
        "id": "D-xNevjZg1D9",
        "outputId": "8a7adc6e-0ab7-4db4-fa03-545dedba494c"
      },
      "outputs": [
        {
          "name": "stdout",
          "output_type": "stream",
          "text": [
            "name: Alice\n",
            "age: 30\n",
            "city: New York\n"
          ]
        }
      ],
      "source": [
        "def display_info(**kwargs):\n",
        "    for key, value in kwargs.items():\n",
        "        print(f\"{key}: {value}\")\n",
        "\n",
        "display_info(name=\"Alice\", age=30, city=\"New York\")"
      ]
    },
    {
      "cell_type": "markdown",
      "metadata": {
        "id": "NwwFPSxdhN0B"
      },
      "source": [
        "### 7. Functions as First-Class Objects\n",
        "\n",
        "In Python, functions are treated as first-class objects, meaning they can be assigned to variables, passed as arguments, or returned from other functions.\n"
      ]
    },
    {
      "cell_type": "code",
      "execution_count": null,
      "metadata": {
        "colab": {
          "base_uri": "https://localhost:8080/"
        },
        "id": "QtQDkG7phFKM",
        "outputId": "1183ae01-f76c-4f03-d4b3-77de4788d8ad"
      },
      "outputs": [
        {
          "name": "stdout",
          "output_type": "stream",
          "text": [
            "HELLO\n",
            "hi there\n"
          ]
        }
      ],
      "source": [
        "def shout(text):\n",
        "    return text.upper()\n",
        "\n",
        "def whisper(text):\n",
        "    return text.lower()\n",
        "\n",
        "# Assign functions to variables\n",
        "action = shout\n",
        "print(action(\"Hello\"))  # Output: HELLO\n",
        "\n",
        "# Pass functions as arguments\n",
        "def greet(func):\n",
        "    greeting = func(\"Hi there\")\n",
        "    print(greeting)\n",
        "\n",
        "greet(whisper)  # Output: hi there"
      ]
    },
    {
      "cell_type": "markdown",
      "metadata": {
        "id": "IRcrXWythXBJ"
      },
      "source": [
        "### 8. Lambda Functions\n",
        "\n",
        "A **lambda function** is a small anonymous function that can have any number of input parameters but only one expression.\n",
        "\n",
        "#### Syntax:\n",
        "```python\n",
        "lambda arguments: expression\n",
        "```\n"
      ]
    },
    {
      "cell_type": "code",
      "execution_count": null,
      "metadata": {
        "colab": {
          "base_uri": "https://localhost:8080/"
        },
        "id": "a7-OvjQ_hRDO",
        "outputId": "3220c2a1-b3cc-4033-9b34-8ec1b20f1df7"
      },
      "outputs": [
        {
          "name": "stdout",
          "output_type": "stream",
          "text": [
            "25\n"
          ]
        }
      ],
      "source": [
        "square = lambda x: x * x\n",
        "print(square(5))  # Output: 25"
      ]
    },
    {
      "cell_type": "markdown",
      "metadata": {
        "id": "Xo7vyMXihaeo"
      },
      "source": [
        "### 9. Higher-Order Functions\n",
        "\n",
        "A **higher-order function** is a function that takes another function as an argument, or returns a function as a result.\n"
      ]
    },
    {
      "cell_type": "code",
      "execution_count": null,
      "metadata": {
        "colab": {
          "base_uri": "https://localhost:8080/"
        },
        "id": "3wTlEjG2hYcO",
        "outputId": "26909cc5-0573-4482-f77a-29ff834dece4"
      },
      "outputs": [
        {
          "name": "stdout",
          "output_type": "stream",
          "text": [
            "20\n"
          ]
        }
      ],
      "source": [
        "def apply_function(func, value):\n",
        "    return func(value)\n",
        "\n",
        "result = apply_function(lambda x: x * 2, 10)\n",
        "print(result)  # Output: 20"
      ]
    },
    {
      "cell_type": "markdown",
      "metadata": {
        "id": "3Fx6l85HhyAU"
      },
      "source": [
        "# More Advanced Topics"
      ]
    },
    {
      "cell_type": "markdown",
      "metadata": {
        "id": "oN1raBrSiiLU"
      },
      "source": [
        "## Data Structures\n",
        "\n",
        "Python provides several built-in data structures that allow you to store and manage collections of data efficiently. The most commonly used data structures are:\n",
        "\n",
        "- Lists\n",
        "- Tuples\n",
        "- Sets\n",
        "- Dictionaries\n",
        "\n",
        "---"
      ]
    },
    {
      "cell_type": "markdown",
      "metadata": {
        "id": "KCRAj5eqipUI"
      },
      "source": [
        "### 1. Lists\n",
        "\n",
        "A **list** is an ordered collection of items, which can be of different types. Lists are mutable, meaning you can modify their contents after creation.\n",
        "\n",
        "#### Syntax:\n",
        "```python\n",
        "my_list = [item1, item2, item3]\n",
        "```"
      ]
    },
    {
      "cell_type": "code",
      "execution_count": null,
      "metadata": {
        "colab": {
          "base_uri": "https://localhost:8080/"
        },
        "id": "Wkl17aych5lE",
        "outputId": "4f1bd697-57ba-4a51-c0dc-725f61b2a2c8"
      },
      "outputs": [
        {
          "name": "stdout",
          "output_type": "stream",
          "text": [
            "['apple', 'banana', 'cherry']\n"
          ]
        }
      ],
      "source": [
        "fruits = [\"apple\", \"banana\", \"cherry\"]\n",
        "print(fruits)  # Output: ['apple', 'banana', 'cherry']"
      ]
    },
    {
      "cell_type": "markdown",
      "metadata": {
        "id": "_DPd5Grlivyn"
      },
      "source": [
        "#### List Operations:\n",
        "- **Append**: Adds an item to the end of the list."
      ]
    },
    {
      "cell_type": "code",
      "execution_count": null,
      "metadata": {
        "colab": {
          "base_uri": "https://localhost:8080/"
        },
        "id": "jfqGwLvAirUC",
        "outputId": "914f8c40-83b1-46fa-b7fa-987e4099fcc2"
      },
      "outputs": [
        {
          "name": "stdout",
          "output_type": "stream",
          "text": [
            "['apple', 'banana', 'cherry', 'orange']\n"
          ]
        }
      ],
      "source": [
        "fruits.append(\"orange\")\n",
        "print(fruits)  # Output: ['apple', 'banana', 'cherry', 'orange']"
      ]
    },
    {
      "cell_type": "markdown",
      "metadata": {
        "id": "-9ZKvA0ki79H"
      },
      "source": [
        "\n",
        "- **Insert**: Inserts an item at a specific index."
      ]
    },
    {
      "cell_type": "code",
      "execution_count": null,
      "metadata": {
        "colab": {
          "base_uri": "https://localhost:8080/"
        },
        "id": "xYmhCbl3i60C",
        "outputId": "376a8f44-ced4-4081-ab86-5ba69e3bac6f"
      },
      "outputs": [
        {
          "name": "stdout",
          "output_type": "stream",
          "text": [
            "['apple', 'blueberry', 'banana', 'cherry', 'orange']\n"
          ]
        }
      ],
      "source": [
        "fruits.insert(1, \"blueberry\")\n",
        "print(fruits)  # Output: ['apple', 'blueberry', 'banana', 'cherry', 'orange']"
      ]
    },
    {
      "cell_type": "markdown",
      "metadata": {
        "id": "5sSXjQo9jDgj"
      },
      "source": [
        "- **Remove**: Removes the first occurrence of an item."
      ]
    },
    {
      "cell_type": "code",
      "execution_count": null,
      "metadata": {
        "colab": {
          "base_uri": "https://localhost:8080/"
        },
        "id": "kFs1gzeAi-MQ",
        "outputId": "4400015e-7539-4007-91cc-0a9f233cd713"
      },
      "outputs": [
        {
          "name": "stdout",
          "output_type": "stream",
          "text": [
            "['apple', 'blueberry', 'cherry', 'orange']\n"
          ]
        }
      ],
      "source": [
        "fruits.remove(\"banana\")\n",
        "print(fruits)  # Output: ['apple', 'blueberry', 'cherry', 'orange']"
      ]
    },
    {
      "cell_type": "markdown",
      "metadata": {
        "id": "1HlN9KEajLD9"
      },
      "source": [
        "\n",
        "- **Indexing and Slicing**: Access items by index."
      ]
    },
    {
      "cell_type": "code",
      "execution_count": null,
      "metadata": {
        "colab": {
          "base_uri": "https://localhost:8080/"
        },
        "id": "eOv0-KO-jGq-",
        "outputId": "9aa739f4-8767-49db-c727-b849a20d81cc"
      },
      "outputs": [
        {
          "name": "stdout",
          "output_type": "stream",
          "text": [
            "apple\n",
            "['blueberry', 'cherry']\n"
          ]
        }
      ],
      "source": [
        "print(fruits[0])  # Output: 'apple'\n",
        "print(fruits[1:3])  # Output: ['blueberry', 'cherry']"
      ]
    },
    {
      "cell_type": "markdown",
      "metadata": {
        "id": "psZX3nqLjpz2"
      },
      "source": [
        "#### Using Lists as Stacks:\n",
        "Lists can be used as stacks where elements are added or removed from the end."
      ]
    },
    {
      "cell_type": "code",
      "execution_count": null,
      "metadata": {
        "colab": {
          "base_uri": "https://localhost:8080/",
          "height": 35
        },
        "id": "lPGxv5v9jOwR",
        "outputId": "64c58a85-3567-41ce-a633-31768d0d8835"
      },
      "outputs": [
        {
          "data": {
            "application/vnd.google.colaboratory.intrinsic+json": {
              "type": "string"
            },
            "text/plain": [
              "'d'"
            ]
          },
          "execution_count": 55,
          "metadata": {},
          "output_type": "execute_result"
        }
      ],
      "source": [
        "stack = [\"a\", \"b\", \"c\"]\n",
        "stack.append(\"d\")  # Output: ['a', 'b', 'c', 'd']\n",
        "stack.pop()        # Output: 'd'"
      ]
    },
    {
      "cell_type": "markdown",
      "metadata": {
        "id": "T1y7vF3kjwrz"
      },
      "source": [
        "---\n",
        "### 2. Tuples\n",
        "\n",
        "A **tuple** is similar to a list but immutable, meaning you cannot modify its contents once created.\n",
        "\n",
        "#### Syntax:\n",
        "```python\n",
        "my_tuple = (item1, item2, item3)\n",
        "```"
      ]
    },
    {
      "cell_type": "code",
      "execution_count": null,
      "metadata": {
        "colab": {
          "base_uri": "https://localhost:8080/"
        },
        "id": "wMPpE4JBjsiv",
        "outputId": "2870912d-a780-42ba-aeed-10408a3680d0"
      },
      "outputs": [
        {
          "name": "stdout",
          "output_type": "stream",
          "text": [
            "(10, 20)\n"
          ]
        }
      ],
      "source": [
        "coordinates = (10, 20)\n",
        "print(coordinates)  # Output: (10, 20)"
      ]
    },
    {
      "cell_type": "markdown",
      "metadata": {
        "id": "T1IshxApj1CQ"
      },
      "source": [
        "#### Creating a Tuple with One Item:\n",
        "When creating a tuple with a single element, you need a trailing comma to differentiate it from a regular parenthesis.\n"
      ]
    },
    {
      "cell_type": "code",
      "execution_count": null,
      "metadata": {
        "colab": {
          "base_uri": "https://localhost:8080/"
        },
        "id": "sLjq3J4_jyyY",
        "outputId": "616399fe-1273-4454-dee7-590b299a5ccc"
      },
      "outputs": [
        {
          "name": "stdout",
          "output_type": "stream",
          "text": [
            "(2,)\n"
          ]
        }
      ],
      "source": [
        "singleton = (2,)\n",
        "print(singleton)  # Output: (2,)"
      ]
    },
    {
      "cell_type": "markdown",
      "metadata": {
        "id": "vLJWRhR7j6H7"
      },
      "source": [
        "---\n",
        "### 3. Sets\n",
        "\n",
        "A **set** is an unordered collection of unique items. Sets are mutable, but they do not allow duplicates.\n",
        "\n",
        "#### Syntax:\n",
        "```python\n",
        "my_set = {item1, item2, item3}\n",
        "```\n"
      ]
    },
    {
      "cell_type": "code",
      "execution_count": null,
      "metadata": {
        "colab": {
          "base_uri": "https://localhost:8080/"
        },
        "id": "XTKPqnZ6j2jj",
        "outputId": "eb51d9f9-6e45-4ce5-a05d-ec143da1daec"
      },
      "outputs": [
        {
          "name": "stdout",
          "output_type": "stream",
          "text": [
            "{'blue', 'red', 'green'}\n"
          ]
        }
      ],
      "source": [
        "colors = {\"red\", \"green\", \"blue\"}\n",
        "print(colors)  # Output: {'red', 'green', 'blue'}"
      ]
    },
    {
      "cell_type": "markdown",
      "metadata": {
        "id": "2OhPacZkkBrs"
      },
      "source": [
        "#### Set Operations:\n",
        "- **Add**: Adds an item to the set.\n",
        "  ```python\n",
        "  colors.add(\"yellow\")\n",
        "  print(colors)  # Output: {'red', 'yellow', 'green', 'blue'}\n",
        "  ```\n",
        "\n",
        "- **Set Operations**: Perform union, intersection, difference, and symmetric difference on sets.\n",
        "  ```python\n",
        "  setA = {\"a\", \"b\", \"c\"}\n",
        "  setB = {\"c\", \"d\", \"e\"}\n",
        "  \n",
        "  print(setA | setB)  # Union: {'a', 'b', 'c', 'd', 'e'}\n",
        "  print(setA & setB)  # Intersection: {'c'}\n",
        "  print(setA - setB)  # Difference: {'a', 'b'}\n",
        "  print(setA ^ setB)  # Symmetric Difference: {'a', 'b', 'd', 'e'}\n",
        "  ```"
      ]
    },
    {
      "cell_type": "markdown",
      "metadata": {
        "id": "998Uy6qDkJcm"
      },
      "source": [
        "---\n",
        "\n",
        "### 4. Dictionaries\n",
        "\n",
        "A **dictionary** is an unordered collection of key-value pairs. Each key must be unique, and keys are used to access the corresponding values.\n",
        "\n",
        "#### Syntax:\n",
        "```python\n",
        "my_dict = {key1: value1, key2: value2}\n",
        "```"
      ]
    },
    {
      "cell_type": "code",
      "execution_count": null,
      "metadata": {
        "colab": {
          "base_uri": "https://localhost:8080/"
        },
        "id": "u0PR0wvaj_6L",
        "outputId": "0742f6f1-f8a9-4397-aa9f-021d6ed3ab62"
      },
      "outputs": [
        {
          "name": "stdout",
          "output_type": "stream",
          "text": [
            "{'name': 'Alice', 'age': 24, 'major': 'Computer Science'}\n"
          ]
        }
      ],
      "source": [
        "student = {\"name\": \"Alice\", \"age\": 24, \"major\": \"Computer Science\"}\n",
        "print(student)  # Output: {'name': 'Alice', 'age': 24, 'major': 'Computer Science'}"
      ]
    },
    {
      "cell_type": "markdown",
      "metadata": {
        "id": "QI55FWILkO-_"
      },
      "source": [
        "#### Dictionary Operations:\n",
        "- **Add/Modify Entries**: Assign a value to a key.\n",
        "  ```python\n",
        "  student[\"grade\"] = \"A\"\n",
        "  print(student)  # Output: {'name': 'Alice', 'age': 24, 'major': 'Computer Science', 'grade': 'A'}\n",
        "  ```\n",
        "\n",
        "- **Remove Entries**: Delete a key-value pair using `del`.\n",
        "  ```python\n",
        "  del student[\"major\"]\n",
        "  print(student)  # Output: {'name': 'Alice', 'age': 24, 'grade': 'A'}\n",
        "  ```\n",
        "\n",
        "- **Iterate Over a Dictionary**:\n",
        "  ```python\n",
        "  for key, value in student.items():\n",
        "      print(f\"{key}: {value}\")\n",
        "  ```\n",
        "  #### Output:\n",
        "  ```\n",
        "  name: Alice\n",
        "  age: 24\n",
        "  grade: A\n",
        "  ```"
      ]
    },
    {
      "cell_type": "markdown",
      "metadata": {
        "id": "ktT8fJL1kVzx"
      },
      "source": [
        "#### Copying Dictionaries:\n",
        "To copy a dictionary, use the `.copy()` method."
      ]
    },
    {
      "cell_type": "code",
      "execution_count": null,
      "metadata": {
        "colab": {
          "base_uri": "https://localhost:8080/"
        },
        "id": "_bnnvNsfkLaJ",
        "outputId": "8c85a7f1-cf6b-48a8-9e41-53c7502daee4"
      },
      "outputs": [
        {
          "name": "stdout",
          "output_type": "stream",
          "text": [
            "{1: 'goodbye'}\n",
            "{1: 'hello'}\n"
          ]
        }
      ],
      "source": [
        "original = {1: \"hello\"}\n",
        "copy_dict = original.copy()\n",
        "original[1] = \"goodbye\"\n",
        "print(original)  # Output: {1: 'goodbye'}\n",
        "print(copy_dict) # Output: {1: 'hello'}"
      ]
    },
    {
      "cell_type": "markdown",
      "metadata": {
        "id": "vmRhnO92kZvJ"
      },
      "source": [
        "### 5. Summary of Data Structures\n",
        "\n",
        "| Data Structure | Mutable | Ordered | Allows Duplicates |\n",
        "|----------------|---------|---------|-------------------|\n",
        "| List           | Yes     | Yes     | Yes               |\n",
        "| Tuple          | No      | Yes     | Yes               |\n",
        "| Set            | Yes     | No      | No                |\n",
        "| Dictionary     | Yes     | No      | Keys: No, Values: Yes |\n",
        "\n",
        "---\n"
      ]
    },
    {
      "cell_type": "markdown",
      "metadata": {
        "id": "4Q31UtTGlK3w"
      },
      "source": [
        "## NumPy and Scientific Computing\n",
        "\n",
        "### Introduction\n",
        "\n",
        "**NumPy** (Numerical Python) is a powerful library for numerical computing in Python. It provides support for large, multi-dimensional arrays and matrices, along with a wide collection of mathematical functions to operate on these arrays efficiently. It is widely used in data science, machine learning, and scientific computing due to its speed, flexibility, and ease of use.\n",
        "\n",
        "### Key Features of NumPy\n",
        "\n",
        "1. **Efficient Memory Usage**: NumPy arrays use contiguous blocks of memory, allowing for efficient memory access and fast computation compared to Python lists.\n",
        "2. **Vectorized Operations**: NumPy allows operations on entire arrays without needing loops. These vectorized operations are executed in compiled C code, making them significantly faster than traditional Python loops.\n",
        "3. **Mathematical Functions**: NumPy provides optimized implementations of a wide range of mathematical functions, including linear algebra operations, random number generation, and Fourier transforms.\n",
        "4. **Interoperability**: NumPy integrates seamlessly with other libraries such as Pandas, SciPy, Pytorch, and TensorFlow. It also supports data sharing with external libraries in C/C++ and Fortran.\n",
        "\n",
        "---\n",
        "\n",
        "### Use Cases of NumPy\n",
        "\n",
        "1. **Scientific Computing**: NumPy is the backbone for many scientific computing tasks, such as solving linear algebra problems, numerical integration, and optimization.\n",
        "2. **Data Analysis**: NumPy is often used to handle large datasets along with pandas.\n",
        "3. **Machine Learning**: NumPy provides efficient numerical operations on large datasets and is often used for data preprocessing in machine learning pipelines.\n",
        "4. **Image Processing**: NumPy arrays are used to store pixel data and perform image transformations.\n",
        "---\n",
        "\n",
        "### Why Use NumPy?\n",
        "\n",
        "1. **Speed and Performance**: NumPy is written in C, allowing for performance optimizations that make it much faster than standard Python, especially for large datasets and numerical calculations.\n",
        "2. **Vectorized Operations**: NumPy enables you to apply operations directly to entire arrays, matrices, or vectors without the need for explicit loops. This makes the code cleaner, more readable, and faster. The C code in the backend of Numpy uses very efficicent multi-threaded libraries such as BLAS and LAPACK.\n",
        "   \n",
        "   Example:\n",
        "   ```python\n",
        "   import numpy as np\n",
        "   # Vectorized addition\n",
        "   arr1 = np.array([1, 2, 3])\n",
        "   arr2 = np.array([4, 5, 6])\n",
        "   result = arr1 + arr2  # Output: array([5, 7, 9])\n",
        "   ```\n",
        "\n",
        "3. **Broadcasting**: NumPy automatically handles arithmetic operations between arrays of different shapes, allowing them to be broadcasted across one another. This makes it easy to apply operations across dimensions without reshaping data manually.\n",
        "\n",
        "   Example:\n",
        "   ```python\n",
        "   import numpy as np\n",
        "   a = np.array([1, 2, 3])\n",
        "   b = np.array([[10], [20], [30]])\n",
        "   result = a + b\n",
        "   # Output:\n",
        "   # array([[11, 12, 13],\n",
        "   #        [21, 22, 23],\n",
        "   #        [31, 32, 33]])\n",
        "   ```\n",
        "\n",
        "4. **Multi-dimensional Arrays**: NumPy supports multi-dimensional arrays (also known as tensors) that can represent scalars, vectors, matrices, and higher-dimensional data structures.\n",
        "\n",
        "   Example:\n",
        "   ```python\n",
        "   matrix = np.array([[1, 2, 3], [4, 5, 6]])\n",
        "   ```\n",
        "\n",
        "5. **Indexing and Slicing**: NumPy allows advanced indexing and slicing, making it easier to work with subsets of data.\n",
        "\n",
        "   Example:\n",
        "   ```python\n",
        "   arr = np.array([1, 2, 3, 4, 5])\n",
        "   print(arr[1:4])  # Output: array([2, 3, 4])\n",
        "   ```\n",
        "\n",
        "   Example:\n",
        "   ```python\n",
        "   arr = np.array([1, 2, 3, 4, 5])\n",
        "   print(arr[[1,3,4]])  # Output: array([2, 4, 5])\n",
        "   ```\n",
        "\n",
        "6. **Linear Algebra**: NumPy has built-in functions for matrix multiplication, inversion, and decompositions, which are essential for many scientific and engineering problems.\n",
        "\n",
        "   Example:\n",
        "   ```python\n",
        "   import numpy as np\n",
        "   A = np.array([[1, 2], [3, 4]])\n",
        "   B = np.linalg.inv(A)  # Inverse of matrix A\n",
        "   ```\n",
        "\n",
        "7. **Random Number Generation**: NumPy’s random module provides functions to generate random numbers from various distributions, making it useful for simulations and probabilistic modeling.\n",
        "\n",
        "   Example:\n",
        "   ```python\n",
        "   random_numbers = np.random.rand(3, 3)  # 3x3 array of random numbers between 0 and 1\n",
        "   ```\n",
        "\n",
        "8. **Handling Missing Data**: NumPy arrays support NaN (Not a Number) values, which can be useful when working with incomplete datasets or math operations which sometimes involve nan values (such as division by zero).\n",
        "\n",
        "   Example:\n",
        "   ```python\n",
        "   arr = np.array([1, 2, np.nan, 4])\n",
        "   print(np.isnan(arr))  # Output: array([False, False,  True, False])\n",
        "   ```\n",
        "\n",
        "---\n",
        "\n",
        "### Benefits of Using NumPy\n",
        "\n",
        "- **Speed**: Operations on large datasets are much faster using NumPy compared to Python lists due to its low-level implementation in C.\n",
        "- **Memory Efficiency**: NumPy arrays consume less memory than traditional Python lists.\n",
        "- **Ease of Use**: The ability to perform vectorized operations simplifies code and reduces the need for explicit loops.\n",
        "- **Rich Ecosystem**: NumPy is part of the larger scientific Python ecosystem and integrates well with libraries like Pandas, SciPy, and Matplotlib.\n",
        "\n",
        "---\n",
        "\n",
        "This section introduces the power and flexibility of NumPy for scientific computing, highlighting why it’s essential for handling large datasets, performing fast vectorized operations, and working in fields like machine learning, data analysis, and scientific research.\n"
      ]
    },
    {
      "cell_type": "markdown",
      "metadata": {
        "id": "bePbXeQXmp3v"
      },
      "source": [
        "## Basic Examples of NumPy Usage\n",
        "\n",
        "### 1. Creating Arrays\n",
        "\n",
        "NumPy arrays are the core data structure in NumPy. You can create arrays in several ways:\n"
      ]
    },
    {
      "cell_type": "markdown",
      "metadata": {
        "id": "t0NQp1gmmvte"
      },
      "source": [
        "#### Example: Creating 1D and 2D arrays"
      ]
    },
    {
      "cell_type": "code",
      "execution_count": null,
      "metadata": {
        "id": "TLygy0KKmrNp"
      },
      "outputs": [],
      "source": [
        "import numpy as np"
      ]
    },
    {
      "cell_type": "code",
      "execution_count": null,
      "metadata": {
        "colab": {
          "base_uri": "https://localhost:8080/"
        },
        "id": "YXLYUoFYkXW8",
        "outputId": "956a5adc-425a-46af-b655-f1a17b8342a5"
      },
      "outputs": [
        {
          "name": "stdout",
          "output_type": "stream",
          "text": [
            "1D array: [1 2 3 4 5]\n",
            "2D array (matrix):\n",
            " [[1 2 3]\n",
            " [4 5 6]]\n"
          ]
        }
      ],
      "source": [
        "arr1 = np.array([1, 2, 3, 4, 5])\n",
        "print(\"1D array:\", arr1)\n",
        "\n",
        "# 2D array (matrix)\n",
        "arr2 = np.array([[1, 2, 3], [4, 5, 6]])\n",
        "print(\"2D array (matrix):\\n\", arr2)"
      ]
    },
    {
      "cell_type": "markdown",
      "metadata": {
        "id": "2cXvmArCmwzN"
      },
      "source": [
        "#### Example: Creating arrays filled with zeros, ones, or random values\n"
      ]
    },
    {
      "cell_type": "code",
      "execution_count": null,
      "metadata": {
        "colab": {
          "base_uri": "https://localhost:8080/"
        },
        "id": "sCVzJV4mmtkK",
        "outputId": "1af9f1b0-c7d7-4ed0-a3c2-68719e10b405"
      },
      "outputs": [
        {
          "name": "stdout",
          "output_type": "stream",
          "text": [
            "Array of zeros:\n",
            " [[0. 0. 0.]\n",
            " [0. 0. 0.]\n",
            " [0. 0. 0.]]\n",
            "Array of ones:\n",
            " [[1. 1. 1. 1.]\n",
            " [1. 1. 1. 1.]]\n",
            "Array of random values:\n",
            " [[0.7437684  0.72894789 0.98767147]\n",
            " [0.79180152 0.27377165 0.30139987]\n",
            " [0.12106889 0.30486179 0.42473532]]\n"
          ]
        }
      ],
      "source": [
        "zeros_array = np.zeros((3, 3))\n",
        "print(\"Array of zeros:\\n\", zeros_array)\n",
        "\n",
        "# Array of ones\n",
        "ones_array = np.ones((2, 4))\n",
        "print(\"Array of ones:\\n\", ones_array)\n",
        "\n",
        "# Array of random values between 0 and 1\n",
        "random_array = np.random.rand(3, 3)\n",
        "print(\"Array of random values:\\n\", random_array)"
      ]
    },
    {
      "cell_type": "markdown",
      "metadata": {
        "id": "wAqnj7kZm589"
      },
      "source": [
        "#### Example: Creating arrays with ranges and evenly spaced values"
      ]
    },
    {
      "cell_type": "code",
      "execution_count": null,
      "metadata": {
        "colab": {
          "base_uri": "https://localhost:8080/"
        },
        "id": "xdvbKpw5m1y2",
        "outputId": "c9b2270e-8ca3-4abc-b31e-bbd79b045ef8"
      },
      "outputs": [
        {
          "name": "stdout",
          "output_type": "stream",
          "text": [
            "Array with values from 0 to 9: [0 1 2 3 4 5 6 7 8 9]\n",
            "Array of 5 evenly spaced values between 1 and 10: [ 1.    3.25  5.5   7.75 10.  ]\n"
          ]
        }
      ],
      "source": [
        "# Array with values from 0 to 9\n",
        "range_array = np.arange(10)\n",
        "print(\"Array with values from 0 to 9:\", range_array)\n",
        "\n",
        "# Array of evenly spaced values between 1 and 10\n",
        "linspace_array = np.linspace(1, 10, 5)\n",
        "print(\"Array of 5 evenly spaced values between 1 and 10:\", linspace_array)"
      ]
    },
    {
      "cell_type": "markdown",
      "metadata": {
        "id": "UpSV94fKnAEe"
      },
      "source": [
        "---\n",
        "\n",
        "### 2. Array Indexing and Slicing\n",
        "\n",
        "You can access and modify elements in a NumPy array just like you would with Python lists.\n",
        "\n",
        "#### Example: Indexing and slicing 1D arrays"
      ]
    },
    {
      "cell_type": "code",
      "execution_count": null,
      "metadata": {
        "colab": {
          "base_uri": "https://localhost:8080/"
        },
        "id": "S3G7qLH8m842",
        "outputId": "db0641a3-8161-439e-e945-a69d0cefff9e"
      },
      "outputs": [
        {
          "name": "stdout",
          "output_type": "stream",
          "text": [
            "First element: 10\n",
            "Last element: 50\n",
            "Slice from index 1 to 3: [20 30 40]\n"
          ]
        }
      ],
      "source": [
        "arr = np.array([10, 20, 30, 40, 50])\n",
        "\n",
        "# Accessing individual elements\n",
        "print(\"First element:\", arr[0])\n",
        "print(\"Last element:\", arr[-1])\n",
        "\n",
        "# Slicing\n",
        "print(\"Slice from index 1 to 3:\", arr[1:4])"
      ]
    },
    {
      "cell_type": "markdown",
      "metadata": {
        "id": "TP0XEt8LnFu1"
      },
      "source": [
        "#### Example: Indexing and slicing 2D arrays"
      ]
    },
    {
      "cell_type": "code",
      "execution_count": null,
      "metadata": {
        "colab": {
          "base_uri": "https://localhost:8080/"
        },
        "id": "PEDa8ABVnB0N",
        "outputId": "24195fad-5c5d-47c2-9421-d393ceda45cd"
      },
      "outputs": [
        {
          "name": "stdout",
          "output_type": "stream",
          "text": [
            "Element at row 1, column 2: 6\n",
            "First two rows:\n",
            " [[1 2 3]\n",
            " [4 5 6]]\n"
          ]
        }
      ],
      "source": [
        "matrix = np.array([[1, 2, 3], [4, 5, 6], [7, 8, 9]])\n",
        "\n",
        "# Accessing individual elements\n",
        "print(\"Element at row 1, column 2:\", matrix[1, 2])  # Output: 6\n",
        "\n",
        "# Slicing rows and columns\n",
        "print(\"First two rows:\\n\", matrix[:2, :])"
      ]
    },
    {
      "cell_type": "markdown",
      "metadata": {
        "id": "bnwv2okVnJ7F"
      },
      "source": [
        "---\n",
        "\n",
        "### 3. Basic Mathematical Operations\n",
        "\n",
        "NumPy allows element-wise operations between arrays and scalars.\n",
        "\n",
        "#### Example: Element-wise addition, multiplication, and exponentiation\n"
      ]
    },
    {
      "cell_type": "code",
      "execution_count": null,
      "metadata": {
        "colab": {
          "base_uri": "https://localhost:8080/"
        },
        "id": "T6he4udvnHJe",
        "outputId": "1348e5f0-ec1a-4440-c72c-3c25cf635cee"
      },
      "outputs": [
        {
          "name": "stdout",
          "output_type": "stream",
          "text": [
            "Element-wise addition: [5 7 9]\n",
            "Element-wise multiplication: [ 4 10 18]\n",
            "Element-wise exponentiation: [1 4 9]\n"
          ]
        }
      ],
      "source": [
        "arr1 = np.array([1, 2, 3])\n",
        "arr2 = np.array([4, 5, 6])\n",
        "\n",
        "# Element-wise addition\n",
        "print(\"Element-wise addition:\", arr1 + arr2)\n",
        "\n",
        "# Element-wise multiplication\n",
        "print(\"Element-wise multiplication:\", arr1 * arr2)\n",
        "\n",
        "# Element-wise exponentiation\n",
        "print(\"Element-wise exponentiation:\", arr1 ** 2)"
      ]
    },
    {
      "cell_type": "markdown",
      "metadata": {
        "id": "I4TE7KBInQsI"
      },
      "source": [
        "#### Example: Array and scalar operations"
      ]
    },
    {
      "cell_type": "code",
      "execution_count": null,
      "metadata": {
        "colab": {
          "base_uri": "https://localhost:8080/"
        },
        "id": "HprzEcponM10",
        "outputId": "1b77899c-f36e-4256-dc5e-61c0e2f08135"
      },
      "outputs": [
        {
          "name": "stdout",
          "output_type": "stream",
          "text": [
            "Array + scalar: [11 12 13]\n",
            "Array * scalar: [3 6 9]\n"
          ]
        }
      ],
      "source": [
        "# Adding a scalar to an array\n",
        "print(\"Array + scalar:\", arr1 + 10)\n",
        "\n",
        "# Multiplying an array by a scalar\n",
        "print(\"Array * scalar:\", arr1 * 3)"
      ]
    },
    {
      "cell_type": "markdown",
      "metadata": {
        "id": "_NGE3oaCnV55"
      },
      "source": [
        "---\n",
        "\n",
        "### 4. Statistical and Mathematical Functions\n",
        "\n",
        "NumPy provides many useful mathematical functions.\n",
        "\n",
        "#### Example: Calculating mean, sum, and standard deviation\n"
      ]
    },
    {
      "cell_type": "code",
      "execution_count": null,
      "metadata": {
        "colab": {
          "base_uri": "https://localhost:8080/"
        },
        "id": "Ir5L5BkFnSFd",
        "outputId": "5836e2c4-9c3a-4452-b96d-f67b14443dad"
      },
      "outputs": [
        {
          "name": "stdout",
          "output_type": "stream",
          "text": [
            "Sum: 15\n",
            "Mean: 3.0\n",
            "Standard deviation: 1.4142135623730951\n"
          ]
        }
      ],
      "source": [
        "arr = np.array([1, 2, 3, 4, 5])\n",
        "\n",
        "print(\"Sum:\", np.sum(arr))\n",
        "print(\"Mean:\", np.mean(arr))\n",
        "print(\"Standard deviation:\", np.std(arr))"
      ]
    },
    {
      "cell_type": "markdown",
      "metadata": {
        "id": "BRqXpdc-nZgD"
      },
      "source": [
        "#### Example: Finding the minimum and maximum values"
      ]
    },
    {
      "cell_type": "code",
      "execution_count": null,
      "metadata": {
        "colab": {
          "base_uri": "https://localhost:8080/"
        },
        "id": "J9vYwMHanVEI",
        "outputId": "4120d7e7-bfef-4c40-bcb6-170acdbc051c"
      },
      "outputs": [
        {
          "name": "stdout",
          "output_type": "stream",
          "text": [
            "Min: 1\n",
            "Max: 5\n"
          ]
        }
      ],
      "source": [
        "print(\"Min:\", np.min(arr))\n",
        "print(\"Max:\", np.max(arr))"
      ]
    },
    {
      "cell_type": "markdown",
      "metadata": {
        "id": "_hobQK8Xnbyi"
      },
      "source": [
        "#### Example: Transposing a matrix"
      ]
    },
    {
      "cell_type": "code",
      "execution_count": null,
      "metadata": {
        "colab": {
          "base_uri": "https://localhost:8080/"
        },
        "id": "ic98c_Acnamw",
        "outputId": "d84f9d69-9150-4053-b5bd-7dcff3ace753"
      },
      "outputs": [
        {
          "name": "stdout",
          "output_type": "stream",
          "text": [
            "Original matrix:\n",
            " [[1 2]\n",
            " [3 4]\n",
            " [5 6]]\n",
            "Transposed matrix:\n",
            " [[1 3 5]\n",
            " [2 4 6]]\n"
          ]
        }
      ],
      "source": [
        "matrix = np.array([[1, 2], [3, 4], [5, 6]])\n",
        "print(\"Original matrix:\\n\", matrix)\n",
        "print(\"Transposed matrix:\\n\", np.transpose(matrix))"
      ]
    },
    {
      "cell_type": "markdown",
      "metadata": {
        "id": "L2ul5UMxngaG"
      },
      "source": [
        "---\n",
        "\n",
        "### 5. Broadcasting\n",
        "\n",
        "NumPy automatically handles arithmetic operations between arrays of different shapes by **broadcasting**.\n",
        "\n",
        "#### Example: Broadcasting a 1D array to a 2D array"
      ]
    },
    {
      "cell_type": "code",
      "execution_count": null,
      "metadata": {
        "colab": {
          "base_uri": "https://localhost:8080/"
        },
        "id": "Flm1k5Jinds0",
        "outputId": "3f5f506f-d176-424a-ff2b-0834232c6863"
      },
      "outputs": [
        {
          "name": "stdout",
          "output_type": "stream",
          "text": [
            "Broadcasting result:\n",
            " [[11 12 13]\n",
            " [21 22 23]\n",
            " [31 32 33]]\n"
          ]
        }
      ],
      "source": [
        "arr = np.array([1, 2, 3])\n",
        "matrix = np.array([[10], [20], [30]])\n",
        "\n",
        "# Broadcasting the 1D array across the rows of the 2D array\n",
        "result = arr + matrix\n",
        "print(\"Broadcasting result:\\n\", result)"
      ]
    },
    {
      "cell_type": "markdown",
      "metadata": {
        "id": "ZBRb857cnmTO"
      },
      "source": [
        "---\n",
        "\n",
        "### 6.Vectorized Operations vs. Loops\n",
        "\n",
        "One of the main advantages of NumPy is its ability to perform vectorized operations, which are much faster than equivalent operations using Python loops.\n",
        "\n",
        "#### Example: Summing Elements"
      ]
    },
    {
      "cell_type": "code",
      "execution_count": null,
      "metadata": {
        "colab": {
          "base_uri": "https://localhost:8080/"
        },
        "id": "xwch72sYnhr8",
        "outputId": "4ea56e2a-ee63-42bb-cbfb-febe934d989d"
      },
      "outputs": [
        {
          "name": "stdout",
          "output_type": "stream",
          "text": [
            "Sum using loop: 49999995000000.0\n",
            "Time taken by loop: 2.317579746246338 seconds\n"
          ]
        }
      ],
      "source": [
        "import time\n",
        "\n",
        "# Large array\n",
        "arr = np.arange(1e7)\n",
        "\n",
        "# Summing using a loop\n",
        "start_time = time.time()\n",
        "total = 0\n",
        "for x in arr:\n",
        "    total += x\n",
        "print(\"Sum using loop:\", total)\n",
        "print(\"Time taken by loop:\", time.time() - start_time, \"seconds\")"
      ]
    },
    {
      "cell_type": "code",
      "execution_count": null,
      "metadata": {
        "colab": {
          "base_uri": "https://localhost:8080/"
        },
        "id": "AlLTnLHNn3S6",
        "outputId": "e97a2b0d-0b9e-49d5-a11c-f5560a440469"
      },
      "outputs": [
        {
          "name": "stdout",
          "output_type": "stream",
          "text": [
            "Sum using NumPy: 49999995000000.0\n",
            "Time taken by NumPy: 0.0156707763671875 seconds\n"
          ]
        }
      ],
      "source": [
        "start_time = time.time()\n",
        "total = np.sum(arr)\n",
        "print(\"Sum using NumPy:\", total)\n",
        "print(\"Time taken by NumPy:\", time.time() - start_time, \"seconds\")"
      ]
    },
    {
      "cell_type": "markdown",
      "metadata": {
        "id": "cRDDEvLeoIBG"
      },
      "source": [
        "### 7. Exercises"
      ]
    },
    {
      "cell_type": "markdown",
      "metadata": {
        "id": "xX2zjD19ouy5"
      },
      "source": [
        "### Exercise 1: Matrix Multiplication\n",
        "#### Task:\n",
        "- Write a function that performs matrix multiplication of two 2D arrays, `A` and `B`, using nested loops.\n",
        "- Then, rewrite the function using NumPy's vectorized `np.dot()` or `@` operator.\n",
        "- Compare the performance of the loop implementation with the vectorized version.\n",
        "\n",
        "#### Hints:\n",
        "- Use the following dimensions for the matrices: `A` of shape (500, 500) and `B` of shape (500, 500).\n",
        "- Measure the execution time using `%timeit`.\n",
        "\n",
        "---"
      ]
    },
    {
      "cell_type": "code",
      "execution_count": null,
      "metadata": {
        "colab": {
          "base_uri": "https://localhost:8080/"
        },
        "id": "qHr2BFu9paB0",
        "outputId": "90f70cff-f927-4d6e-8ccf-7cf4e8b7b272"
      },
      "outputs": [
        {
          "name": "stdout",
          "output_type": "stream",
          "text": [
            "725 ms ± 82 ms per loop (mean ± std. dev. of 7 runs, 1 loop each)\n"
          ]
        }
      ],
      "source": [
        "def matrix_multiply_loops(A, B):\n",
        "    result = np.zeros((A.shape[0], B.shape[1]))\n",
        "    for i in range(A.shape[0]):\n",
        "        for j in range(B.shape[1]):\n",
        "            for k in range(A.shape[1]):\n",
        "                result[i, j] += A[i, k] * B[k, j]\n",
        "    return result\n",
        "\n",
        "# Test with two random 500x500 matrices\n",
        "A = np.random.rand(100, 100)\n",
        "B = np.random.rand(100, 100)\n",
        "%timeit matrix_multiply_loops(A, B)"
      ]
    },
    {
      "cell_type": "code",
      "execution_count": null,
      "metadata": {
        "colab": {
          "base_uri": "https://localhost:8080/"
        },
        "id": "DsYaymMpplBr",
        "outputId": "204d4d87-1302-48f6-97c4-b98e8c61bdca"
      },
      "outputs": [
        {
          "name": "stdout",
          "output_type": "stream",
          "text": [
            "27.7 µs ± 2.66 µs per loop (mean ± std. dev. of 7 runs, 10000 loops each)\n"
          ]
        }
      ],
      "source": [
        "def matrix_multiply_vectorized(A, B):\n",
        "    return np.matmul(A, B)\n",
        "\n",
        "# Vectorized matrix multiplication\n",
        "%timeit matrix_multiply_vectorized(A, B)"
      ]
    },
    {
      "cell_type": "code",
      "execution_count": null,
      "metadata": {
        "colab": {
          "base_uri": "https://localhost:8080/"
        },
        "id": "VYnUUE-WqPp8",
        "outputId": "6655b4ca-a518-48c0-e408-54c7bffba93b"
      },
      "outputs": [
        {
          "data": {
            "text/plain": [
              "1.5010215292932116e-11"
            ]
          },
          "execution_count": 87,
          "metadata": {},
          "output_type": "execute_result"
        }
      ],
      "source": [
        "np.abs(matrix_multiply_loops(A, B) - matrix_multiply_vectorized(A, B)).sum()"
      ]
    },
    {
      "cell_type": "markdown",
      "metadata": {
        "id": "Gk4rYhkGo5vm"
      },
      "source": [
        "### Exercise 2: Euclidean Distance Calculation\n",
        "\n",
        "#### Task:\n",
        "- Given two arrays `A` and `B`, each containing N points in a D-dimensional space, compute the Euclidean distance between every point in `A` and every point in `B` using nested loops.\n",
        "- Rewrite the function using NumPy’s broadcasting and vectorized operations to compute all distances at once.\n",
        "- Compare the performance of both implementations.\n",
        "\n",
        "#### Hints:\n",
        "- Start by writing a nested loop implementation using the formula:\n",
        "  $\\text{distance} = \\sqrt{(x_1 - x_2)^2 + (y_1 - y_2)^2 + \\ldots}$\n",
        "- Use `np.linalg.norm()` or broadcasting for the vectorized version.\n",
        "\n",
        "---"
      ]
    },
    {
      "cell_type": "code",
      "execution_count": null,
      "metadata": {
        "colab": {
          "base_uri": "https://localhost:8080/"
        },
        "id": "2mldn3DpqBOy",
        "outputId": "3e0acb85-419d-4e14-d6db-ab9cd2027aa4"
      },
      "outputs": [
        {
          "name": "stdout",
          "output_type": "stream",
          "text": [
            "9.07 s ± 1.85 s per loop (mean ± std. dev. of 7 runs, 1 loop each)\n"
          ]
        }
      ],
      "source": [
        "def euclidean_distance_loops(A, B):\n",
        "    result = np.zeros((A.shape[0], B.shape[0]))\n",
        "    for i in range(A.shape[0]):\n",
        "        for j in range(B.shape[0]):\n",
        "            result[i, j] = np.sqrt(np.sum((A[i] - B[j]) ** 2))\n",
        "    return result\n",
        "\n",
        "# Random points in 3D space\n",
        "A = np.random.rand(1000, 3)\n",
        "B = np.random.rand(1000, 3)\n",
        "%timeit euclidean_distance_loops(A, B)"
      ]
    },
    {
      "cell_type": "code",
      "execution_count": null,
      "metadata": {
        "colab": {
          "base_uri": "https://localhost:8080/"
        },
        "id": "vdNzMpTAqDWp",
        "outputId": "30dd63d4-c320-4b94-8fe7-b82a2c37c5ee"
      },
      "outputs": [
        {
          "name": "stdout",
          "output_type": "stream",
          "text": [
            "79.7 ms ± 11.2 ms per loop (mean ± std. dev. of 7 runs, 10 loops each)\n"
          ]
        }
      ],
      "source": [
        "def euclidean_distance_vectorized(A, B):\n",
        "    diff = A[:, np.newaxis, :] - B\n",
        "    return np.sqrt(np.sum(diff ** 2, axis=-1))\n",
        "\n",
        "# Vectorized Euclidean distance calculation\n",
        "%timeit euclidean_distance_vectorized(A, B)"
      ]
    },
    {
      "cell_type": "code",
      "execution_count": null,
      "metadata": {
        "colab": {
          "base_uri": "https://localhost:8080/"
        },
        "id": "_A1qSceNqfGd",
        "outputId": "8139f9de-7d55-418e-f80b-d4da2d84ed33"
      },
      "outputs": [
        {
          "data": {
            "text/plain": [
              "0.0"
            ]
          },
          "execution_count": 88,
          "metadata": {},
          "output_type": "execute_result"
        }
      ],
      "source": [
        "A = np.random.rand(50, 3)\n",
        "B = np.random.rand(50, 3)\n",
        "\n",
        "np.abs(euclidean_distance_loops(A, B) - euclidean_distance_vectorized(A, B)).sum()"
      ]
    },
    {
      "cell_type": "markdown",
      "metadata": {
        "id": "r82BxX11o8CF"
      },
      "source": [
        "### Exercise 3: Convolution of an Image with a Kernel\n",
        "\n",
        "#### Task:\n",
        "- Write a function that applies a convolution operation on a 2D array (representing an image) using a 3x3 kernel, implemented using loops.\n",
        "- Then, rewrite the function using Scipy's `scipy.signal.convolve2d()` for a vectorized approach.\n",
        "- Test the performance of both implementations with a large 2D array (e.g., 1000x1000 image).\n",
        "\n",
        "#### Hints:\n",
        "- For the loop implementation, use nested loops to iterate over the image array and apply the kernel.\n",
        "- Compare performance using `%timeit`.\n",
        "\n",
        "---"
      ]
    },
    {
      "cell_type": "code",
      "execution_count": null,
      "metadata": {
        "colab": {
          "base_uri": "https://localhost:8080/"
        },
        "id": "efHnx9hwqkE_",
        "outputId": "61ce3918-f6ea-4908-b4f7-4c313f8bdbe5"
      },
      "outputs": [
        {
          "name": "stdout",
          "output_type": "stream",
          "text": [
            "115 ms ± 27.9 ms per loop (mean ± std. dev. of 7 runs, 1 loop each)\n"
          ]
        }
      ],
      "source": [
        "def convolution_loops(image, kernel):\n",
        "    # In traditional image processing, convolution operations can flip the kernel before applying it,\n",
        "    kernel = np.flipud(np.fliplr(kernel))\n",
        "    # Get the dimensions of the image and the kernel\n",
        "    kernel_height, kernel_width = kernel.shape\n",
        "    image_height, image_width = image.shape\n",
        "\n",
        "    # Calculate the dimensions of the output array\n",
        "    output_height = image_height - kernel_height + 1\n",
        "    output_width = image_width - kernel_width + 1\n",
        "\n",
        "    # Initialize the output array with zeros\n",
        "    output = np.zeros((output_height, output_width))\n",
        "\n",
        "    # Perform convolution using nested loops\n",
        "    for i in range(output_height):\n",
        "        for j in range(output_width):\n",
        "            # Extract the current region of interest from the image\n",
        "            region = image[i:i + kernel_height, j:j + kernel_width]\n",
        "            # Element-wise multiplication and summation\n",
        "            output[i, j] = np.sum(region * kernel)\n",
        "\n",
        "    return output\n",
        "\n",
        "\n",
        "# Random 64x64 image and 3x3 kernel\n",
        "image = np.random.rand(128, 128)\n",
        "kernel = np.array([[1, 0, -1], [1, 0, -1], [1, 0, -1]])\n",
        "%timeit convolution_loops(image, kernel)"
      ]
    },
    {
      "cell_type": "code",
      "execution_count": null,
      "metadata": {
        "colab": {
          "base_uri": "https://localhost:8080/"
        },
        "id": "O7F8AnQmq33f",
        "outputId": "4f052094-829b-446e-c320-e52fc7cb336c"
      },
      "outputs": [
        {
          "name": "stdout",
          "output_type": "stream",
          "text": [
            "946 µs ± 203 µs per loop (mean ± std. dev. of 7 runs, 1000 loops each)\n"
          ]
        }
      ],
      "source": [
        "from scipy.signal import convolve2d\n",
        "\n",
        "def convolution_vectorized(image, kernel):\n",
        "    return convolve2d(image, kernel, mode='valid')\n",
        "\n",
        "# Vectorized convolution using scipy\n",
        "%timeit convolution_vectorized(image, kernel)"
      ]
    },
    {
      "cell_type": "code",
      "execution_count": null,
      "metadata": {
        "colab": {
          "base_uri": "https://localhost:8080/"
        },
        "id": "CQhfdi7qq7Ri",
        "outputId": "b1099135-7f9d-4dba-b107-88df3283a66d"
      },
      "outputs": [
        {
          "data": {
            "text/plain": [
              "6.150635556423367e-13"
            ]
          },
          "execution_count": 113,
          "metadata": {},
          "output_type": "execute_result"
        }
      ],
      "source": [
        "np.abs(convolution_loops(image, kernel) - convolution_vectorized(image, kernel)).sum()"
      ]
    },
    {
      "cell_type": "markdown",
      "metadata": {
        "id": "XlUk7cKHpAt-"
      },
      "source": [
        "### Exercise 4: Polynomial Evaluation\n",
        "\n",
        "#### Task:\n",
        "- Write a function that evaluates a polynomial for a given set of x-values using a loop. For a polynomial of the form:\n",
        "  $P(x) = a_0 + a_1x + a_2x^2 + \\dots + a_nx^n$\n",
        "  - Use the coefficients `a = [a_0, a_1, a_2, \\dots, a_n]` and compute the polynomial for each element in an array `x`.\n",
        "- Then, rewrite the function using NumPy’s vectorized operations (e.g., `np.polyval()`).\n",
        "- Compare the performance of both implementations with a large number of x-values.\n",
        "\n",
        "#### Hints:\n",
        "- For the loop implementation, use a for-loop to iterate over the polynomial terms.\n",
        "- For the vectorized approach, consider using `np.polyval()` or `np.power()`.\n",
        "\n",
        "---"
      ]
    },
    {
      "cell_type": "code",
      "execution_count": null,
      "metadata": {
        "colab": {
          "base_uri": "https://localhost:8080/"
        },
        "id": "hkPtddaVrmyM",
        "outputId": "81aa906d-1351-4b75-8686-ac61101505e5"
      },
      "outputs": [
        {
          "name": "stdout",
          "output_type": "stream",
          "text": [
            "3.71 ms ± 85.7 µs per loop (mean ± std. dev. of 7 runs, 100 loops each)\n"
          ]
        }
      ],
      "source": [
        "def polynomial_evaluation_loops(coefficients, x_values):\n",
        "    result = np.zeros_like(x_values)\n",
        "    for i, coeff in enumerate(coefficients):\n",
        "        result += coeff * (x_values ** i)\n",
        "    return result\n",
        "\n",
        "# Polynomial coefficients and x values\n",
        "coefficients = [1, -2, 3, 4]  # Represents 1 - 2x + 3x^2 + 4x^3\n",
        "x_values = np.linspace(-10, 10, 100000)\n",
        "%timeit polynomial_evaluation_loops(coefficients, x_values)"
      ]
    },
    {
      "cell_type": "code",
      "execution_count": null,
      "metadata": {
        "colab": {
          "base_uri": "https://localhost:8080/"
        },
        "id": "Q6H670tGro5U",
        "outputId": "c2342acc-8c3d-4725-dffb-cbc6a62e047a"
      },
      "outputs": [
        {
          "name": "stdout",
          "output_type": "stream",
          "text": [
            "1.36 ms ± 297 µs per loop (mean ± std. dev. of 7 runs, 1000 loops each)\n"
          ]
        }
      ],
      "source": [
        "def polynomial_evaluation_vectorized(coefficients, x_values):\n",
        "    return np.polyval(coefficients[::-1], x_values)\n",
        "\n",
        "# Vectorized polynomial evaluation\n",
        "%timeit polynomial_evaluation_vectorized(coefficients, x_values)"
      ]
    },
    {
      "cell_type": "code",
      "execution_count": null,
      "metadata": {
        "colab": {
          "base_uri": "https://localhost:8080/"
        },
        "id": "mc1KTjq0rtL5",
        "outputId": "51e23386-2576-4cc8-badf-11189127f2f8"
      },
      "outputs": [
        {
          "data": {
            "text/plain": [
              "5.451614715212827e-09"
            ]
          },
          "execution_count": 99,
          "metadata": {},
          "output_type": "execute_result"
        }
      ],
      "source": [
        "np.abs(polynomial_evaluation_loops(coefficients, x_values) - polynomial_evaluation_vectorized(coefficients, x_values)).sum()"
      ]
    },
    {
      "cell_type": "markdown",
      "metadata": {
        "id": "dTLZ4hiypX_g"
      },
      "source": [
        "### Exercise 5: Monte Carlo Simulation for Pi Estimation\n",
        "\n",
        "#### Task:\n",
        "- Implement a Monte Carlo simulation to estimate the value of π by generating random points inside a unit square and counting how many fall inside the unit circle, using loops.\n",
        "- Then, rewrite the simulation using NumPy’s vectorized random number generation and array operations.\n",
        "- Compare the performance of both implementations when simulating 1 million random points.\n",
        "\n",
        "#### Hints:\n",
        "- The formula to estimate π is:\n",
        "  $\\pi \\approx 4 \\times \\frac{\\text{points inside circle}}{\\text{total points}}$\n",
        "- Use `np.random.rand()` for the vectorized version.\n",
        "\n",
        "---"
      ]
    },
    {
      "cell_type": "code",
      "execution_count": null,
      "metadata": {
        "colab": {
          "base_uri": "https://localhost:8080/"
        },
        "id": "ZOS2RnC-n9Z3",
        "outputId": "77af9d63-7acf-45d9-d6cd-4608e296f6e3"
      },
      "outputs": [
        {
          "name": "stdout",
          "output_type": "stream",
          "text": [
            "2.49 s ± 548 ms per loop (mean ± std. dev. of 7 runs, 1 loop each)\n"
          ]
        }
      ],
      "source": [
        "def monte_carlo_pi_loops(n_points):\n",
        "    inside_circle = 0\n",
        "    for _ in range(n_points):\n",
        "        x, y = np.random.rand(), np.random.rand()\n",
        "        if np.sqrt(x ** 2 + y ** 2) <= 1:\n",
        "            inside_circle += 1\n",
        "    return (inside_circle / n_points) * 4\n",
        "\n",
        "# Estimate Pi using 1 million points\n",
        "%timeit monte_carlo_pi_loops(1000000)"
      ]
    },
    {
      "cell_type": "code",
      "execution_count": null,
      "metadata": {
        "colab": {
          "base_uri": "https://localhost:8080/"
        },
        "id": "203GdVOyr9JX",
        "outputId": "f2634ed1-0279-4b5c-b2a5-fcf8d77177e4"
      },
      "outputs": [
        {
          "name": "stdout",
          "output_type": "stream",
          "text": [
            "30.5 ms ± 6.85 ms per loop (mean ± std. dev. of 7 runs, 10 loops each)\n"
          ]
        }
      ],
      "source": [
        "def monte_carlo_pi_vectorized(n_points):\n",
        "    points = np.random.rand(n_points, 2)\n",
        "    distances = np.sqrt(points[:, 0] ** 2 + points[:, 1] ** 2)\n",
        "    inside_circle = np.sum(distances <= 1)\n",
        "    return (inside_circle / n_points) * 4\n",
        "\n",
        "# Vectorized Pi estimation\n",
        "%timeit monte_carlo_pi_vectorized(1000000)"
      ]
    }
  ],
  "metadata": {
    "colab": {
      "collapsed_sections": [
        "EP_L5CuNebQi",
        "Dv3o2wcMdHeB",
        "_bS4PJFsdc2m",
        "oN1raBrSiiLU",
        "bePbXeQXmp3v"
      ],
      "provenance": []
    },
    "kernelspec": {
      "display_name": "Python 3",
      "name": "python3"
    },
    "language_info": {
      "name": "python"
    }
  },
  "nbformat": 4,
  "nbformat_minor": 0
}
